{
  "nbformat": 4,
  "nbformat_minor": 0,
  "metadata": {
    "colab": {
      "provenance": []
    },
    "kernelspec": {
      "name": "python3",
      "display_name": "Python 3"
    },
    "language_info": {
      "name": "python"
    }
  },
  "cells": [
    {
      "cell_type": "code",
      "source": [
        "pip install pandas requests matplotlib seaborn"
      ],
      "metadata": {
        "colab": {
          "base_uri": "https://localhost:8080/"
        },
        "id": "rQqSrTWe-7AH",
        "outputId": "df22cda0-6edb-4f79-843f-d579e604ec8f"
      },
      "execution_count": 1,
      "outputs": [
        {
          "output_type": "stream",
          "name": "stdout",
          "text": [
            "Requirement already satisfied: pandas in /usr/local/lib/python3.11/dist-packages (2.2.2)\n",
            "Requirement already satisfied: requests in /usr/local/lib/python3.11/dist-packages (2.32.3)\n",
            "Requirement already satisfied: matplotlib in /usr/local/lib/python3.11/dist-packages (3.10.0)\n",
            "Requirement already satisfied: seaborn in /usr/local/lib/python3.11/dist-packages (0.13.2)\n",
            "Requirement already satisfied: numpy>=1.23.2 in /usr/local/lib/python3.11/dist-packages (from pandas) (1.26.4)\n",
            "Requirement already satisfied: python-dateutil>=2.8.2 in /usr/local/lib/python3.11/dist-packages (from pandas) (2.8.2)\n",
            "Requirement already satisfied: pytz>=2020.1 in /usr/local/lib/python3.11/dist-packages (from pandas) (2024.2)\n",
            "Requirement already satisfied: tzdata>=2022.7 in /usr/local/lib/python3.11/dist-packages (from pandas) (2025.1)\n",
            "Requirement already satisfied: charset-normalizer<4,>=2 in /usr/local/lib/python3.11/dist-packages (from requests) (3.4.1)\n",
            "Requirement already satisfied: idna<4,>=2.5 in /usr/local/lib/python3.11/dist-packages (from requests) (3.10)\n",
            "Requirement already satisfied: urllib3<3,>=1.21.1 in /usr/local/lib/python3.11/dist-packages (from requests) (2.3.0)\n",
            "Requirement already satisfied: certifi>=2017.4.17 in /usr/local/lib/python3.11/dist-packages (from requests) (2024.12.14)\n",
            "Requirement already satisfied: contourpy>=1.0.1 in /usr/local/lib/python3.11/dist-packages (from matplotlib) (1.3.1)\n",
            "Requirement already satisfied: cycler>=0.10 in /usr/local/lib/python3.11/dist-packages (from matplotlib) (0.12.1)\n",
            "Requirement already satisfied: fonttools>=4.22.0 in /usr/local/lib/python3.11/dist-packages (from matplotlib) (4.55.7)\n",
            "Requirement already satisfied: kiwisolver>=1.3.1 in /usr/local/lib/python3.11/dist-packages (from matplotlib) (1.4.8)\n",
            "Requirement already satisfied: packaging>=20.0 in /usr/local/lib/python3.11/dist-packages (from matplotlib) (24.2)\n",
            "Requirement already satisfied: pillow>=8 in /usr/local/lib/python3.11/dist-packages (from matplotlib) (11.1.0)\n",
            "Requirement already satisfied: pyparsing>=2.3.1 in /usr/local/lib/python3.11/dist-packages (from matplotlib) (3.2.1)\n",
            "Requirement already satisfied: six>=1.5 in /usr/local/lib/python3.11/dist-packages (from python-dateutil>=2.8.2->pandas) (1.17.0)\n"
          ]
        }
      ]
    },
    {
      "cell_type": "code",
      "source": [
        "import requests\n",
        "import pandas as pd\n"
      ],
      "metadata": {
        "id": "cnF3c28H_JZV"
      },
      "execution_count": null,
      "outputs": []
    },
    {
      "cell_type": "code",
      "source": [
        "current_quiz_url = 'https://www.jsonkeeper.com/b/LLQT'\n",
        "current_quiz_response = requests.get(current_quiz_url)\n",
        "current_quiz_data = current_quiz_response.json()\n"
      ],
      "metadata": {
        "id": "CnqOCYO_AH6F"
      },
      "execution_count": 3,
      "outputs": []
    },
    {
      "cell_type": "code",
      "source": [
        "historical_quiz_url = 'https://api.jsonserve.com/XgAgFJ'\n",
        "historical_quiz_response = requests.get(historical_quiz_url)\n",
        "historical_quiz_data = historical_quiz_response.json()"
      ],
      "metadata": {
        "id": "8VHJsocRAvXj"
      },
      "execution_count": 4,
      "outputs": []
    },
    {
      "cell_type": "code",
      "source": [
        "print(current_quiz_df.head())\n",
        "print(current_quiz_df.describe())"
      ],
      "metadata": {
        "colab": {
          "base_uri": "https://localhost:8080/"
        },
        "id": "67tsH9eDCW5P",
        "outputId": "2657ceb7-508f-4759-df1b-0e2a0da520bb"
      },
      "execution_count": 6,
      "outputs": [
        {
          "output_type": "stream",
          "name": "stdout",
          "text": [
            "                                                               quiz\n",
            "id                                                               43\n",
            "name                                                           None\n",
            "title             Structural Organisation in Animals and Plants (7)\n",
            "description                                                        \n",
            "difficulty_level                                               None\n",
            "         quiz\n",
            "count      26\n",
            "unique     19\n",
            "top     False\n",
            "freq        5\n"
          ]
        }
      ]
    },
    {
      "cell_type": "code",
      "source": [
        "print(historical_quiz_df.head())\n",
        "print(historical_quiz_df.describe())"
      ],
      "metadata": {
        "colab": {
          "base_uri": "https://localhost:8080/"
        },
        "id": "CxNCOpNCCkjH",
        "outputId": "52b033e6-5013-48ef-e072-4b5ff5f33735"
      },
      "execution_count": 7,
      "outputs": [
        {
          "output_type": "stream",
          "name": "stdout",
          "text": [
            "       id  quiz_id                       user_id  \\\n",
            "0  336497       51  YcDFSO4ZukTJnnFMgRNVwZTE4j42   \n",
            "1  336448        6  YcDFSO4ZukTJnnFMgRNVwZTE4j42   \n",
            "2  333330       51  YcDFSO4ZukTJnnFMgRNVwZTE4j42   \n",
            "3  333242        6  YcDFSO4ZukTJnnFMgRNVwZTE4j42   \n",
            "4  329504       51  YcDFSO4ZukTJnnFMgRNVwZTE4j42   \n",
            "\n",
            "                    submitted_at                     created_at  \\\n",
            "0  2025-01-17T15:30:18.027+05:30  2025-01-17T15:30:18.044+05:30   \n",
            "1  2025-01-17T15:17:44.042+05:30  2025-01-17T15:17:44.056+05:30   \n",
            "2  2025-01-16T20:13:19.682+05:30  2025-01-16T20:13:19.699+05:30   \n",
            "3  2025-01-16T20:00:11.562+05:30  2025-01-16T20:00:11.573+05:30   \n",
            "4  2025-01-15T20:34:39.462+05:30  2025-01-15T20:34:39.478+05:30   \n",
            "\n",
            "                      updated_at  score  trophy_level accuracy speed  ...  \\\n",
            "0  2025-01-17T15:30:18.044+05:30    108             2     90 %   100  ...   \n",
            "1  2025-01-17T15:17:44.056+05:30     92             1    100 %   100  ...   \n",
            "2  2025-01-16T20:13:19.699+05:30    116             2     96 %   100  ...   \n",
            "3  2025-01-16T20:00:11.573+05:30     36             2     90 %   100  ...   \n",
            "4  2025-01-15T20:34:39.478+05:30     36             3     31 %    96  ...   \n",
            "\n",
            "                      started_at                       ended_at  duration  \\\n",
            "0  2025-01-17T15:18:30.000+05:30  2025-01-17T15:30:15.000+05:30     15:00   \n",
            "1  2025-01-17T15:07:45.000+05:30  2025-01-17T15:17:41.000+05:30     15:00   \n",
            "2  2025-01-16T20:01:10.000+05:30  2025-01-16T20:13:18.000+05:30     15:00   \n",
            "3  2025-01-16T19:52:57.000+05:30  2025-01-16T20:00:09.000+05:30     15:00   \n",
            "4  2025-01-15T20:21:25.000+05:30  2025-01-15T20:34:38.000+05:30     15:00   \n",
            "\n",
            "   better_than total_questions            rank_text mistakes_corrected  \\\n",
            "0          107             100   Topic Rank - #-171                  9   \n",
            "1          395              23  Topic Rank - #-9140                  3   \n",
            "2          115             100   Topic Rank - #-418                 11   \n",
            "3          152              23  Topic Rank - #-1598                  1   \n",
            "4           35             100   Topic Rank - #2023                  0   \n",
            "\n",
            "  initial_mistake_count                                       response_map  \\\n",
            "0                    12  {'2523': 10109, '2529': 10130, '2533': 10149, ...   \n",
            "1                     3  {'48': 192, '49': 197, '50': 199, '51': 203, '...   \n",
            "2                    12  {'2523': 10109, '2525': 10117, '2528': 10127, ...   \n",
            "3                     2  {'49': 197, '52': 208, '53': 212, '54': 217, '...   \n",
            "4                    20  {'2521': 10099, '2523': 10107, '2532': 10145, ...   \n",
            "\n",
            "                                                quiz  \n",
            "0  {'id': 51, 'name': None, 'title': 'Human Physi...  \n",
            "1  {'id': 6, 'name': None, 'title': 'Human Physio...  \n",
            "2  {'id': 51, 'name': None, 'title': 'Human Physi...  \n",
            "3  {'id': 6, 'name': None, 'title': 'Human Physio...  \n",
            "4  {'id': 51, 'name': None, 'title': 'Human Physi...  \n",
            "\n",
            "[5 rows x 26 columns]\n",
            "                  id    quiz_id       score  trophy_level  correct_answers  \\\n",
            "count      14.000000  14.000000   14.000000     14.000000        14.000000   \n",
            "mean   312368.428571  31.500000   60.285714      2.214286        15.071429   \n",
            "std     38889.139814  20.346045   34.675260      0.699293         8.668815   \n",
            "min    195808.000000   6.000000   12.000000      1.000000         3.000000   \n",
            "25%    316613.250000  18.000000   36.000000      2.000000         9.000000   \n",
            "50%    324964.000000  24.500000   46.000000      2.000000        11.500000   \n",
            "75%    332307.500000  51.000000   88.000000      3.000000        22.000000   \n",
            "max    336497.000000  58.000000  116.000000      3.000000        29.000000   \n",
            "\n",
            "       incorrect_answers  better_than  total_questions  mistakes_corrected  \\\n",
            "count          14.000000    14.000000         14.00000           14.000000   \n",
            "mean            5.857143   160.000000         55.50000            2.857143   \n",
            "std             6.948792   126.353594         35.01593            4.452435   \n",
            "min             0.000000    18.000000         20.00000            0.000000   \n",
            "25%             1.000000    55.250000         23.00000            0.000000   \n",
            "50%             3.000000   133.500000         48.00000            0.000000   \n",
            "75%             8.500000   246.750000         97.25000            3.750000   \n",
            "max            20.000000   395.000000        100.00000           12.000000   \n",
            "\n",
            "       initial_mistake_count  \n",
            "count              14.000000  \n",
            "mean                8.714286  \n",
            "std                 6.462062  \n",
            "min                 0.000000  \n",
            "25%                 3.000000  \n",
            "50%                 8.000000  \n",
            "75%                13.500000  \n",
            "max                20.000000  \n"
          ]
        }
      ]
    },
    {
      "cell_type": "code",
      "source": [
        "def process_quiz_data(historical_data):\n",
        "  performance = {}\n",
        "\n",
        "  for quiz in historical_data:\n",
        "      responses_map = quiz.get(\"responses_map\",{})\n",
        "      questions = quiz.get(\"questions\",{})\n",
        "\n",
        "      for q_id,selected_option in responses_map.items():\n",
        "          questions_data = questions.get(q_id)\n",
        "\n",
        "          if not question_data:\n",
        "             print(f\"Warning: Question ID {q_id} missing in 'question' field\")\n",
        "             continue\n",
        "          topic = questions_data.get(\"topic\",\"Unknown\")\n",
        "          correct = questions_data.get(\"correct_option\") == selected_option\n",
        "\n",
        "          if topic not in performance:\n",
        "             performance[topic] = {\"total\":0,\"correct\":0}\n",
        "\n",
        "          performance[topic]['total'] +=1\n",
        "          if correct:\n",
        "              performance[topic]['correct'] += 1\n",
        "\n",
        "\n",
        "      return performance"
      ],
      "metadata": {
        "id": "u7pkSTEbtSnj"
      },
      "execution_count": 43,
      "outputs": []
    },
    {
      "cell_type": "code",
      "source": [
        "performance_data = process_quiz_data(historical_quiz_data)"
      ],
      "metadata": {
        "id": "qaWY41B_vS6w"
      },
      "execution_count": 45,
      "outputs": []
    },
    {
      "cell_type": "markdown",
      "source": [
        "Generate Insights"
      ],
      "metadata": {
        "id": "nqXSACdawrsp"
      }
    },
    {
      "cell_type": "code",
      "source": [
        "def generate_insights(performance_data):\n",
        "   insights = {}\n",
        "   for topic, stas in performance_data.items():\n",
        "       accuracy = stats['correct'] / stats['total']\n",
        "       insights[topic] = {\n",
        "           \"accuracy\": round(accuracy * 100,2),\n",
        "           \"status\" : \"Weak\" if accuracy < 0.5 else \"Moderate\" if accuracy <0.8 else \"Strong\"\n",
        "       }\n",
        "   return insights"
      ],
      "metadata": {
        "id": "hEhjmMh8wubi"
      },
      "execution_count": 46,
      "outputs": []
    },
    {
      "cell_type": "code",
      "source": [
        "insights = generate_insights(performance_data)"
      ],
      "metadata": {
        "id": "h_xFLsJcwrRw"
      },
      "execution_count": 47,
      "outputs": []
    },
    {
      "cell_type": "code",
      "source": [
        "def generate_recommendations(insights):\n",
        "    recommendations = []\n",
        "\n",
        "    for topic, data in insights.items():\n",
        "        if data['status'] == 'Weak':\n",
        "            recommendations.append(f\"Focus more on {topic}. Revise key concepts and attempt more practice questions.\")\n",
        "        elif data['status'] == 'Moderate':\n",
        "            recommendations.append(f\"Improve accuracy in {topic} by solving higher-difficulty questions.\")\n",
        "\n",
        "    return recommendations\n",
        "\n",
        "recommendations = generate_recommendations(insights)\n"
      ],
      "metadata": {
        "id": "k9cgG_DMzqnd"
      },
      "execution_count": 50,
      "outputs": []
    },
    {
      "cell_type": "markdown",
      "source": [
        "Predict NEET Rank"
      ],
      "metadata": {
        "id": "rkTQ3Bcb1T9h"
      }
    },
    {
      "cell_type": "code",
      "source": [
        "def predict_neet_rank(insights):\n",
        "    avg_accuracy = np.mean([data['accuracy'] for data in insights.values()])\n",
        "    rank = max(1,int((1-avg_accuracy /100) * 1000000))\n",
        "    return f\"Estimated NEET Rank: {rank}\""
      ],
      "metadata": {
        "id": "TInq1u9r1Y_w"
      },
      "execution_count": 51,
      "outputs": []
    },
    {
      "cell_type": "code",
      "source": [
        "import numpy as np"
      ],
      "metadata": {
        "id": "a15hFem32OPu"
      },
      "execution_count": 53,
      "outputs": []
    },
    {
      "cell_type": "code",
      "source": [
        "def predict_neet_rank(insights):\n",
        "    accuracies = [data['accuracy'] for data in insights.values()]\n",
        "\n",
        "    if not accuracies:\n",
        "        return \"Not enough data to predict rank . Take more quizzes!\"\n",
        "\n",
        "    avg_accuracy = np.mean(accuracies)\n",
        "    rank = max(1, int((1-avg_accuracy/100) * 1000000))\n",
        "\n",
        "    return f\"Estimated NEET Rank:{rank}\"\n",
        "\n",
        "neet_rank_prediction = predict_neet_rank(insights)\n",
        "print(neet_rank_prediction)\n",
        ""
      ],
      "metadata": {
        "colab": {
          "base_uri": "https://localhost:8080/"
        },
        "id": "TKp193L72efp",
        "outputId": "c2dffdf9-590a-421e-a9ef-eb8c7cd13cfa"
      },
      "execution_count": 57,
      "outputs": [
        {
          "output_type": "stream",
          "name": "stdout",
          "text": [
            "Not enough data to predict rank . Take more quizzes!\n"
          ]
        }
      ]
    },
    {
      "cell_type": "code",
      "source": [
        "print(\"Performance Insights:\",insights)\n",
        "print(\"\\nRecoomendations:\")\n",
        "for rec in recommendations:\n",
        "    print(\"-\", rec)\n",
        "print(\"\\n\", neet_rank_prediction)"
      ],
      "metadata": {
        "colab": {
          "base_uri": "https://localhost:8080/"
        },
        "id": "Bhllfsxl2ckb",
        "outputId": "c0037130-ed7b-4059-e8c3-2086670db291"
      },
      "execution_count": 58,
      "outputs": [
        {
          "output_type": "stream",
          "name": "stdout",
          "text": [
            "Performance Insights: {}\n",
            "\n",
            "Recoomendations:\n",
            "\n",
            " Not enough data to predict rank . Take more quizzes!\n"
          ]
        }
      ]
    },
    {
      "cell_type": "code",
      "source": [
        "if 'topic' in combined_df.columns:\n",
        "    performance_by_topic = combined_df.groupby(\"topic\")[\"is_correct\"].mean().reset_index()\n",
        "    performance_by_difficulty = combined_df.groupby(\"difficulty\")[\"is_correct\"].mean().reset_index()\n",
        "else:\n",
        "    print(\"Column 'topic' is missing from the DataFrame.\")\n",
        "\n"
      ],
      "metadata": {
        "colab": {
          "base_uri": "https://localhost:8080/"
        },
        "id": "-3D7Vmvh5tZ4",
        "outputId": "8dbd9ebb-20c3-46d7-fa62-e0da7b29278e"
      },
      "execution_count": 64,
      "outputs": [
        {
          "output_type": "stream",
          "name": "stdout",
          "text": [
            "Column 'topic' is missing from the DataFrame.\n"
          ]
        }
      ]
    },
    {
      "cell_type": "markdown",
      "source": [
        "Now Identify weak areas"
      ],
      "metadata": {
        "id": "5g2GfUJ557Hq"
      }
    },
    {
      "cell_type": "code",
      "source": [
        "if 'performance_by_topic' in locals():\n",
        "    weak_topics = performance_by_topic[performance_by_topic['is_correct'] < 0.5][\"topic\"].tolist()\n",
        "    weak_difficulties = performance_by_difficulty[performance_by_difficulty['is_correct'] < 0.5]['difficulty'].tolist()\n",
        "else:\n",
        "    print(\"performance_by_topic is not defined . Please check previous calculations.\")"
      ],
      "metadata": {
        "colab": {
          "base_uri": "https://localhost:8080/"
        },
        "id": "nA2CnPrl56gZ",
        "outputId": "8928b9e1-62d5-4e73-9d87-9ffd5495252a"
      },
      "execution_count": 65,
      "outputs": [
        {
          "output_type": "stream",
          "name": "stdout",
          "text": [
            "performance_by_topic is not defined . Please check previous calculations.\n"
          ]
        }
      ]
    },
    {
      "cell_type": "code",
      "source": [
        "print(\"Performance by Topic:\")\n",
        "print(performance_by_topic)\n",
        "\n",
        "print(\"\\nPerformance by Difficulty:\")\n",
        "print(performance_by_difficulty)\n"
      ],
      "metadata": {
        "id": "Kve3hm5D67QG"
      },
      "execution_count": null,
      "outputs": []
    },
    {
      "cell_type": "markdown",
      "source": [
        "simulate NEET rank data"
      ],
      "metadata": {
        "id": "aNLLJHzV8K0H"
      }
    },
    {
      "cell_type": "code",
      "source": [
        "np.random.seed(42)\n",
        "combined_df['neet_rank'] = np.random.randint(1,1000000,size=len(combined_df))"
      ],
      "metadata": {
        "id": "p8nciJ-O8KUF"
      },
      "execution_count": 72,
      "outputs": []
    },
    {
      "cell_type": "code",
      "source": [],
      "metadata": {
        "id": "WP91HO2tAVYr"
      },
      "execution_count": null,
      "outputs": []
    }
  ]
}